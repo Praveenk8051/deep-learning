{
 "cells": [
  {
   "cell_type": "markdown",
   "metadata": {},
   "source": [
    "#### Download unavailable libraries, if necessary"
   ]
  },
  {
   "cell_type": "code",
   "execution_count": null,
   "metadata": {},
   "outputs": [],
   "source": [
    "#import sys\n",
    "#!{sys.executable} -m pip install seaborn"
   ]
  },
  {
   "cell_type": "markdown",
   "metadata": {},
   "source": [
    "#### Import all libraries"
   ]
  },
  {
   "cell_type": "code",
   "execution_count": 2,
   "metadata": {},
   "outputs": [],
   "source": [
    "import tensorflow_datasets as tfds\n",
    "import xml.etree.ElementTree as ET\n",
    "import glob\n",
    "import os\n",
    "import PIL \n",
    "import pandas as pd\n",
    "import matplotlib.pyplot as plt\n",
    "%matplotlib inline\n",
    "import seaborn as sns\n",
    "import numpy as np"
   ]
  },
  {
   "cell_type": "markdown",
   "metadata": {},
   "source": [
    "#### Calculate the centroid of Bbox from xml files"
   ]
  },
  {
   "cell_type": "code",
   "execution_count": 3,
   "metadata": {},
   "outputs": [],
   "source": [
    "pick_files = r'/Users/praveen/Desktop/dataset_pra/JPEGImages'\n",
    "left_corner = []\n",
    "right_corner = []\n",
    "middle = []\n",
    "for files in glob.glob(os.path.join(pick_files, '*.xml')):\n",
    "    tree = ET.parse(files)\n",
    "    root = tree.getroot()\n",
    "    for size in root.findall('size'):\n",
    "        width = int(size.find('width').text)\n",
    "        left = int(width * 1/3) \n",
    "        right = int(width * 2/3) \n",
    "        for bndbox in root.findall('object'):\n",
    "            xCentroid = int(bndbox.find('bndbox').find('xmin').text) + int(bndbox.find('bndbox').find('ymin').text)/2;\n",
    "            if xCentroid <= left:\n",
    "                left_corner.append(xCentroid)\n",
    "            elif xCentroid >= right:\n",
    "                right_corner.append(xCentroid)\n",
    "            elif int(xCentroid > left) & int(xCentroid < right):\n",
    "                middle.append(xCentroid)\n",
    "            else:\n",
    "                print('error')\n",
    "                xxx = root.findall('filename')\n",
    "                for fileeee in xxx:\n",
    "                    print(fileeee.text)"
   ]
  },
  {
   "cell_type": "markdown",
   "metadata": {},
   "source": [
    "#### Plot the distribution"
   ]
  },
  {
   "cell_type": "code",
   "execution_count": 4,
   "metadata": {},
   "outputs": [
    {
     "data": {
      "text/plain": [
       "Text(0, 0.5, 'x-Centroid of Bboxes')"
      ]
     },
     "execution_count": 4,
     "metadata": {},
     "output_type": "execute_result"
    },
    {
     "data": {
      "image/png": "[encoded data removed]",
      "text/plain": [
       "<Figure size 720x432 with 1 Axes>"
      ]
     },
     "metadata": {},
     "output_type": "display_data"
    }
   ],
   "source": [
    "sns.set_style(\"dark\")\n",
    "plt.figure(figsize=(10,6))\n",
    "plt.title(\"Bbox Distribution in the Image\")\n",
    "\n",
    "# Bar chart \n",
    "sns.barplot(x= ['Left', 'Middle', 'Right'], y= [len(left_corner), len(middle), len(right_corner)])\n",
    "plt.ylabel(\"x-Centroid of Bboxes\")"
   ]
  },
  {
   "cell_type": "markdown",
   "metadata": {},
   "source": [
    "#### Resolution of the images\n",
    "* The resolution of the image is calculated using Height and width\n",
    "* min, max and mean resolutions are calculated and grouped for visualization"
   ]
  },
  {
   "cell_type": "code",
   "execution_count": 5,
   "metadata": {},
   "outputs": [],
   "source": [
    "size_df = pd.DataFrame()\n",
    "for files in glob.glob(os.path.join(pick_files, '*.jpg')):\n",
    "    image = PIL.Image.open(files)\n",
    "    width, height = image.size\n",
    "    size_df = size_df.append({'Width':width, 'Height':height, 'Resolution':int(width * height)},ignore_index=True)"
   ]
  },
  {
   "cell_type": "markdown",
   "metadata": {},
   "source": [
    "#### Check the max, min and mean values of Resolution"
   ]
  },
  {
   "cell_type": "code",
   "execution_count": 6,
   "metadata": {},
   "outputs": [
    {
     "name": "stdout",
     "output_type": "stream",
     "text": [
      "Minimum Resolution:  48000.0 \n",
      "Maximum Resolution: 250000.0 \n",
      "Count of Resolution: 4544\n"
     ]
    }
   ],
   "source": [
    "print('Minimum Resolution: ', size_df['Resolution'].min(), '\\nMaximum Resolution:', size_df['Resolution'].max(),'\\nCount of Resolution:', size_df['Resolution'].count())"
   ]
  },
  {
   "cell_type": "markdown",
   "metadata": {},
   "source": [
    "#### Calculate the Occurrances and plot the Histogram accordingly"
   ]
  },
  {
   "cell_type": "code",
   "execution_count": 7,
   "metadata": {},
   "outputs": [
    {
     "data": {
      "text/html": [
       "<div>\n",
       "<style scoped>\n",
       "    .dataframe tbody tr th:only-of-type {\n",
       "        vertical-align: middle;\n",
       "    }\n",
       "\n",
       "    .dataframe tbody tr th {\n",
       "        vertical-align: top;\n",
       "    }\n",
       "\n",
       "    .dataframe thead th {\n",
       "        text-align: right;\n",
       "    }\n",
       "</style>\n",
       "<table border=\"1\" class=\"dataframe\">\n",
       "  <thead>\n",
       "    <tr style=\"text-align: right;\">\n",
       "      <th></th>\n",
       "      <th>Height</th>\n",
       "      <th>Resolution</th>\n",
       "      <th>Width</th>\n",
       "    </tr>\n",
       "    <tr>\n",
       "      <th>Resolution</th>\n",
       "      <th></th>\n",
       "      <th></th>\n",
       "      <th></th>\n",
       "    </tr>\n",
       "  </thead>\n",
       "  <tbody>\n",
       "    <tr>\n",
       "      <th>(47798.0, 88400.0]</th>\n",
       "      <td>45</td>\n",
       "      <td>45</td>\n",
       "      <td>45</td>\n",
       "    </tr>\n",
       "    <tr>\n",
       "      <th>(88400.0, 128800.0]</th>\n",
       "      <td>82</td>\n",
       "      <td>82</td>\n",
       "      <td>82</td>\n",
       "    </tr>\n",
       "    <tr>\n",
       "      <th>(128800.0, 169200.0]</th>\n",
       "      <td>1462</td>\n",
       "      <td>1462</td>\n",
       "      <td>1462</td>\n",
       "    </tr>\n",
       "    <tr>\n",
       "      <th>(169200.0, 209600.0]</th>\n",
       "      <td>2810</td>\n",
       "      <td>2810</td>\n",
       "      <td>2810</td>\n",
       "    </tr>\n",
       "    <tr>\n",
       "      <th>(209600.0, 250000.0]</th>\n",
       "      <td>145</td>\n",
       "      <td>145</td>\n",
       "      <td>145</td>\n",
       "    </tr>\n",
       "  </tbody>\n",
       "</table>\n",
       "</div>"
      ],
      "text/plain": [
       "                      Height  Resolution  Width\n",
       "Resolution                                     \n",
       "(47798.0, 88400.0]        45          45     45\n",
       "(88400.0, 128800.0]       82          82     82\n",
       "(128800.0, 169200.0]    1462        1462   1462\n",
       "(169200.0, 209600.0]    2810        2810   2810\n",
       "(209600.0, 250000.0]     145         145    145"
      ]
     },
     "execution_count": 7,
     "metadata": {},
     "output_type": "execute_result"
    }
   ],
   "source": [
    "size_df.groupby(pd.cut(size_df.Resolution, 5)).count()"
   ]
  },
  {
   "cell_type": "markdown",
   "metadata": {},
   "source": [
    "#### Bar plots to visualize Resolution"
   ]
  },
  {
   "cell_type": "code",
   "execution_count": 10,
   "metadata": {},
   "outputs": [
    {
     "data": {
      "text/plain": [
       "Text(0.5, 0, 'Range of Resolution')"
      ]
     },
     "execution_count": 10,
     "metadata": {},
     "output_type": "execute_result"
    },
    {
     "data": {
      "image/png": "[encoded data removed]",
      "text/plain": [
       "<Figure size 720x432 with 1 Axes>"
      ]
     },
     "metadata": {},
     "output_type": "display_data"
    }
   ],
   "source": [
    "sns.set_style(\"dark\")\n",
    "plt.figure(figsize=(10,6))\n",
    "plt.title(\"Clustering the Resolution of Images\")\n",
    "\n",
    "# Bar chart \n",
    "sns.barplot(x= ['(47798.0, 88400.0]', '(88400.0, 128800.0]', '(128800.0, 169200.0]','(169200.0, 209600.0]','(209600.0, 250000.0]'], y= [45, 82, 1462, 2810, 145])\n",
    "plt.ylabel(\"Count of Images\")\n",
    "plt.xlabel(\"Range of Resolution\")"
   ]
  },
  {
   "cell_type": "markdown",
   "metadata": {},
   "source": [
    "#### Histogram plots of Height vs Width"
   ]
  },
  {
   "cell_type": "code",
   "execution_count": 9,
   "metadata": {},
   "outputs": [
    {
     "data": {
      "text/plain": [
       "<seaborn.axisgrid.JointGrid at 0x10986f940>"
      ]
     },
     "execution_count": 9,
     "metadata": {},
     "output_type": "execute_result"
    },
    {
     "data": {
      "image/png": "[encoded data removed]",
      "text/plain": [
       "<Figure size 432x432 with 3 Axes>"
      ]
     },
     "metadata": {},
     "output_type": "display_data"
    }
   ],
   "source": [
    "sns.set_style(\"dark\")\n",
    "sns.jointplot(x=size_df['Height'], y=size_df['Width'], kind=\"kde\")"
   ]
  },
  {
   "cell_type": "markdown",
   "metadata": {},
   "source": [
    "#### Data Pipelining using tf.Data"
   ]
  },
  {
   "cell_type": "code",
   "execution_count": null,
   "metadata": {},
   "outputs": [],
   "source": []
  }
 ],
 "metadata": {
  "kernelspec": {
   "display_name": "Python 3",
   "language": "python",
   "name": "python3"
  },
  "language_info": {
   "codemirror_mode": {
    "name": "ipython",
    "version": 3
   },
   "file_extension": ".py",
   "mimetype": "text/x-python",
   "name": "python",
   "nbconvert_exporter": "python",
   "pygments_lexer": "ipython3",
   "version": "3.8.3"
  }
 },
 "nbformat": 4,
 "nbformat_minor": 4
}
