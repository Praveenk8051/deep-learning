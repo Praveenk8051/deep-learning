{
 "cells": [
  {
   "cell_type": "code",
   "execution_count": 18,
   "metadata": {},
   "outputs": [],
   "source": [
    "import pandas\n",
    "import xml.etree.ElementTree as ET\n",
    "import glob\n",
    "import os\n",
    "import ntpath\n",
    "import matplotlib.pyplot as plt\n",
    "%matplotlib inline\n",
    "import seaborn as sns"
   ]
  },
  {
   "cell_type": "code",
   "execution_count": 5,
   "metadata": {},
   "outputs": [],
   "source": [
    "\n",
    "\n",
    "path = r'/home/praveen/Downloads/Annotations'\n",
    "# make a list containing only land based and vehicle based\n",
    "required_names = ['land based vehicle', 'person']\n",
    "\n",
    "make_list_of_items_for_single_file = []\n",
    "list_of_files_required = []\n",
    "\n",
    "for files in glob.glob(os.path.join(path, '*.xml')):\n",
    "    make_list_of_items_for_single_file = []\n",
    "    tree = ET.parse(files)\n",
    "    root = tree.getroot()\n",
    "    for objects in root.findall('object'):\n",
    "        make_list_of_items_for_single_file.append(objects.find('name').text)\n",
    "        \n",
    "    if [i for i in required_names if i in make_list_of_items_for_single_file]:\n",
    "        head, tail = ntpath.split(files)\n",
    "        list_of_files_required.append(tail)\n",
    "    else:\n",
    "        os.remove(files)\n",
    "    \n",
    "\n"
   ]
  },
  {
   "cell_type": "code",
   "execution_count": 19,
   "metadata": {},
   "outputs": [],
   "source": [
    "# Delete lbv and person\n",
    "\n",
    "path = r'/home/praveen/Downloads/Annotations-20200717T090536Z-001/Annotations'\n",
    "# make a list containing only land based and vehicle based\n",
    "required_names = ['air based vehicle', 'water based vehicle', 'others']\n",
    "\n",
    "make_list_of_items_for_single_file = []\n",
    "list_of_files_required = []\n",
    "\n",
    "for files in glob.glob(os.path.join(path, '*.xml')):\n",
    "    make_list_of_items_for_single_file = []\n",
    "    tree = ET.parse(files)\n",
    "    root = tree.getroot()\n",
    "    for objects in root.findall('object'):\n",
    "        make_list_of_items_for_single_file.append(objects.find('name').text)\n",
    "        \n",
    "    if [i for i in required_names if i in make_list_of_items_for_single_file]:\n",
    "        continue\n",
    "    else:\n",
    "        os.remove(files)\n",
    "    \n",
    "\n"
   ]
  },
  {
   "cell_type": "code",
   "execution_count": 20,
   "metadata": {},
   "outputs": [],
   "source": [
    "path = r'/home/praveen/Downloads/Annotations-20200717T090536Z-001/Annotations'\n",
    "# make a list containing only land based and vehicle based\n",
    "lsit_names=[]\n",
    "\n",
    "make_list_of_items_for_single_file = []\n",
    "list_of_files_required = []\n",
    "\n",
    "for files in glob.glob(os.path.join(path, '*.xml')):\n",
    "    make_list_of_items_for_single_file = []\n",
    "    tree = ET.parse(files)\n",
    "    root = tree.getroot()\n",
    "    for objects in root.findall('object'):\n",
    "        lsit_names.append(objects.find('name').text)\n",
    "        \n",
    "    "
   ]
  },
  {
   "cell_type": "code",
   "execution_count": 21,
   "metadata": {},
   "outputs": [],
   "source": [
    "person_list = []\n",
    "lbv = []\n",
    "wbv = []\n",
    "other = []\n",
    "abv = []\n",
    "for i in range(len(lsit_names)):\n",
    "    if i == 'person':\n",
    "        person_list.append(lsit_names[i])\n",
    "    elif i=='land based vehicle':\n",
    "        lbv.append(lsit_names[i])\n",
    "    elif i == 'others':\n",
    "        other.append(lsit_names[i])\n",
    "    elif i == 'air based vehicle':\n",
    "        abv.append(lsit_names[i])\n",
    "    else:\n",
    "        wbv.append(lsit_names[i])"
   ]
  },
  {
   "cell_type": "code",
   "execution_count": 22,
   "metadata": {},
   "outputs": [
    {
     "data": {
      "text/plain": [
       "Text(0, 0.5, 'x-Centroid of Bboxes')"
      ]
     },
     "execution_count": 22,
     "metadata": {},
     "output_type": "execute_result"
    },
    {
     "data": {
      "image/png": "[encoded data removed]",
      "text/plain": [
       "<Figure size 720x432 with 1 Axes>"
      ]
     },
     "metadata": {},
     "output_type": "display_data"
    }
   ],
   "source": [
    "sns.set_style(\"dark\")\n",
    "plt.figure(figsize=(10,6))\n",
    "plt.title(\"Label Distribution\")\n",
    "\n",
    "# Bar chart \n",
    "sns.barplot(x= ['person', 'lbv', 'abv','wbv','others'], y= [len(person_list), len(lbv), len(abv),len(wbv),len(other)])\n",
    "plt.ylabel(\"x-Centroid of Bboxes\")"
   ]
  },
  {
   "cell_type": "code",
   "execution_count": 50,
   "metadata": {},
   "outputs": [],
   "source": [
    "list_without_extension=[]\n",
    "for i in range(len(list_of_files_required)):\n",
    "    list_without_extension.append(os.path.splitext(os.path.basename(x))[0])"
   ]
  },
  {
   "cell_type": "code",
   "execution_count": 43,
   "metadata": {},
   "outputs": [],
   "source": [
    " \n",
    "image_path = r'/home/praveen/Downloads/JPEG'"
   ]
  },
  {
   "cell_type": "code",
   "execution_count": null,
   "metadata": {},
   "outputs": [],
   "source": [
    "jpeg_files = []\n",
    "for files in glob.glob(os.path.join(path, '*.jpeg')):\n",
    "    head, tail = ntpath.split(files)\n",
    "    jpeg_files_without_extension.append(os.path.splitext(os.path.basename(x))[0])\n",
    "\n",
    "if not [i for i in list_without_extension if i in jpeg_files_without_extension]:\n",
    "    os.remove(os.path.join(image_path, i, '*.jpeg'))"
   ]
  }
 ],
 "metadata": {
  "kernelspec": {
   "display_name": "Python 3",
   "language": "python",
   "name": "python3"
  },
  "language_info": {
   "codemirror_mode": {
    "name": "ipython",
    "version": 3
   },
   "file_extension": ".py",
   "mimetype": "text/x-python",
   "name": "python",
   "nbconvert_exporter": "python",
   "pygments_lexer": "ipython3",
   "version": "3.7.3"
  }
 },
 "nbformat": 4,
 "nbformat_minor": 2
}
