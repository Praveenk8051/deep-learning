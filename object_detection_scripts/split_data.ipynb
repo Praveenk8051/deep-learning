{
 "cells": [
  {
   "cell_type": "code",
   "execution_count": null,
   "metadata": {},
   "outputs": [],
   "source": []
  },
  {
   "cell_type": "code",
   "execution_count": 1,
   "metadata": {},
   "outputs": [],
   "source": [
    "import glob\n",
    "import os\n",
    "import ntpath\n",
    "import random\n",
    "from shutil import copyfile, move\n",
    "import argparse"
   ]
  },
  {
   "cell_type": "code",
   "execution_count": null,
   "metadata": {},
   "outputs": [],
   "source": []
  },
  {
   "cell_type": "code",
   "execution_count": 2,
   "metadata": {},
   "outputs": [],
   "source": [
    "def create_jpg_file_list(image_path):\n",
    "    \"\"\"\n",
    "\n",
    "    :param image_path: path where jpeg images reside\n",
    "    :return: None\n",
    "    \"\"\"\n",
    "    list_of_file = []\n",
    "    for files in glob.glob(os.path.join(image_path, '*.jpg')):\n",
    "        list_of_file.append(files)\n",
    "    return list_of_file"
   ]
  },
  {
   "cell_type": "code",
   "execution_count": null,
   "metadata": {},
   "outputs": [],
   "source": []
  },
  {
   "cell_type": "code",
   "execution_count": 3,
   "metadata": {},
   "outputs": [],
   "source": [
    "def check_path_exists(path):\n",
    "    \"\"\"\n",
    "\n",
    "    :param path: train and test folder in destination path\n",
    "    :return:\n",
    "    \"\"\"\n",
    "    if not os.path.exists(path + '/train'):\n",
    "        os.makedirs(path + '/train')\n",
    "    if not os.path.exists(path + '/test'):\n",
    "        os.makedirs(path + '/test')\n",
    "    if not os.path.exists(path + '/vali'):\n",
    "        os.makedirs(path + '/vali')"
   ]
  },
  {
   "cell_type": "code",
   "execution_count": null,
   "metadata": {},
   "outputs": [],
   "source": []
  },
  {
   "cell_type": "code",
   "execution_count": 4,
   "metadata": {},
   "outputs": [],
   "source": [
    "def shuffle_divide(file_list):\n",
    "    \"\"\"\n",
    "\n",
    "    :param file_list: list of all jpeg files\n",
    "    :return: None\n",
    "    \"\"\"\n",
    "    random.shuffle(file_list)\n",
    "    test_data = file_list[-int(0.10 * len(file_list)):]\n",
    "    train_data = file_list[:int(0.80 * len(file_list)):]\n",
    "    vali_data = file_list[:int(0.10 * len(file_list))]\n",
    "    return train_data, test_data, vali_data"
   ]
  },
  {
   "cell_type": "code",
   "execution_count": null,
   "metadata": {},
   "outputs": [],
   "source": []
  },
  {
   "cell_type": "code",
   "execution_count": 5,
   "metadata": {},
   "outputs": [],
   "source": [
    "def copy_data(data, str_value, destination_path):\n",
    "    \"\"\"\n",
    "\n",
    "    :param data: train/test data\n",
    "    :param list_of_files: list of all jpeg files\n",
    "    :param str_value: 'test' or 'train\n",
    "    :param destination_path: path where test/train folders needs to be saved\n",
    "    :return: None\n",
    "    \"\"\"\n",
    "    for i in range(len(data)):\n",
    "        head, tail = ntpath.split(data[i])\n",
    "        copyfile(data[i], (destination_path + '/' + str_value + '/' + tail))\n",
    "        copyfile(data[i].replace('jpg', 'xml'), (destination_path + '/'+str_value+'/' + tail.replace('jpg', 'xml')))\n",
    "      "
   ]
  },
  {
   "cell_type": "code",
   "execution_count": 6,
   "metadata": {},
   "outputs": [],
   "source": [
    "images_path = r'/dataset_pra/JPEGImages'\n",
    "destination_path = r'/dataset_pra/split_path'"
   ]
  },
  {
   "cell_type": "code",
   "execution_count": 7,
   "metadata": {},
   "outputs": [
    {
     "name": "stdout",
     "output_type": "stream",
     "text": [
      "Folder creation done\n",
      "Created train data\n",
      "Created test data\n",
      "Created vali data\n"
     ]
    }
   ],
   "source": [
    "if __name__ == '__main__':\n",
    "    list_of_file = create_jpg_file_list(images_path)\n",
    "    check_path_exists(destination_path)\n",
    "    train_data, test_data, vali_data = shuffle_divide(list_of_file)\n",
    "    print('Folder creation done')\n",
    "    copy_data(train_data, 'train', destination_path)\n",
    "    print('Created train data')\n",
    "    copy_data(test_data, 'test', destination_path)\n",
    "    print('Created test data')\n",
    "    copy_data(vali_data, 'test', destination_path)\n",
    "    print('Created vali data')"
   ]
  },
  {
   "cell_type": "code",
   "execution_count": null,
   "metadata": {},
   "outputs": [],
   "source": []
  }
 ],
 "metadata": {
  "kernelspec": {
   "display_name": "Python 3",
   "language": "python",
   "name": "python3"
  },
  "language_info": {
   "codemirror_mode": {
    "name": "ipython",
    "version": 3
   },
   "file_extension": ".py",
   "mimetype": "text/x-python",
   "name": "python",
   "nbconvert_exporter": "python",
   "pygments_lexer": "ipython3",
   "version": "3.8.3"
  }
 },
 "nbformat": 4,
 "nbformat_minor": 4
}
